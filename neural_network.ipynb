{
 "cells": [
  {
   "cell_type": "code",
   "execution_count": 1,
   "metadata": {},
   "outputs": [],
   "source": [
    "import numpy as np\n",
    "import matplotlib.pyplot as plt\n",
    "from pandas import read_csv\n",
    "import math\n"
   ]
  },
  {
   "cell_type": "code",
   "execution_count": 2,
   "metadata": {},
   "outputs": [],
   "source": [
    "\n",
    "from keras.models import Sequential\n",
    "from keras.layers import Dense\n",
    "from sklearn.preprocessing import MinMaxScaler\n",
    "from sklearn.metrics import mean_squared_error"
   ]
  },
  {
   "cell_type": "code",
   "execution_count": 6,
   "metadata": {},
   "outputs": [
    {
     "data": {
      "text/plain": [
       "[<matplotlib.lines.Line2D at 0x1fb2ab88190>]"
      ]
     },
     "execution_count": 6,
     "metadata": {},
     "output_type": "execute_result"
    },
    {
     "data": {
      "image/png": "[encoded data removed]",
      "text/plain": [
       "<Figure size 432x288 with 1 Axes>"
      ]
     },
     "metadata": {
      "needs_background": "light"
     },
     "output_type": "display_data"
    }
   ],
   "source": [
    "df = read_csv('airline-Passengers.csv', usecols=[1])\n",
    "plt.plot(df)"
   ]
  },
  {
   "cell_type": "markdown",
   "metadata": {},
   "source": [
    "#### Convert pandas dataframe to numpy array\n"
   ]
  },
  {
   "cell_type": "code",
   "execution_count": 7,
   "metadata": {},
   "outputs": [],
   "source": [
    "df1= df.values\n",
    "df1 = df1.astype('float32')"
   ]
  },
  {
   "cell_type": "code",
   "execution_count": 8,
   "metadata": {},
   "outputs": [
    {
     "data": {
      "text/plain": [
       "array([[112.],\n",
       "       [118.],\n",
       "       [132.],\n",
       "       [129.],\n",
       "       [121.],\n",
       "       [135.],\n",
       "       [148.],\n",
       "       [148.],\n",
       "       [136.],\n",
       "       [119.],\n",
       "       [104.],\n",
       "       [118.],\n",
       "       [115.],\n",
       "       [126.],\n",
       "       [141.],\n",
       "       [135.],\n",
       "       [125.],\n",
       "       [149.],\n",
       "       [170.],\n",
       "       [170.],\n",
       "       [158.],\n",
       "       [133.],\n",
       "       [114.],\n",
       "       [140.],\n",
       "       [145.],\n",
       "       [150.],\n",
       "       [178.],\n",
       "       [163.],\n",
       "       [172.],\n",
       "       [178.],\n",
       "       [199.],\n",
       "       [199.],\n",
       "       [184.],\n",
       "       [162.],\n",
       "       [146.],\n",
       "       [166.],\n",
       "       [171.],\n",
       "       [180.],\n",
       "       [193.],\n",
       "       [181.],\n",
       "       [183.],\n",
       "       [218.],\n",
       "       [230.],\n",
       "       [242.],\n",
       "       [209.],\n",
       "       [191.],\n",
       "       [172.],\n",
       "       [194.],\n",
       "       [196.],\n",
       "       [196.],\n",
       "       [236.],\n",
       "       [235.],\n",
       "       [229.],\n",
       "       [243.],\n",
       "       [264.],\n",
       "       [272.],\n",
       "       [237.],\n",
       "       [211.],\n",
       "       [180.],\n",
       "       [201.],\n",
       "       [204.],\n",
       "       [188.],\n",
       "       [235.],\n",
       "       [227.],\n",
       "       [234.],\n",
       "       [264.],\n",
       "       [302.],\n",
       "       [293.],\n",
       "       [259.],\n",
       "       [229.],\n",
       "       [203.],\n",
       "       [229.],\n",
       "       [242.],\n",
       "       [233.],\n",
       "       [267.],\n",
       "       [269.],\n",
       "       [270.],\n",
       "       [315.],\n",
       "       [364.],\n",
       "       [347.],\n",
       "       [312.],\n",
       "       [274.],\n",
       "       [237.],\n",
       "       [278.],\n",
       "       [284.],\n",
       "       [277.],\n",
       "       [317.],\n",
       "       [313.],\n",
       "       [318.],\n",
       "       [374.],\n",
       "       [413.],\n",
       "       [405.],\n",
       "       [355.],\n",
       "       [306.],\n",
       "       [271.],\n",
       "       [306.],\n",
       "       [315.],\n",
       "       [301.],\n",
       "       [356.],\n",
       "       [348.],\n",
       "       [355.],\n",
       "       [422.],\n",
       "       [465.],\n",
       "       [467.],\n",
       "       [404.],\n",
       "       [347.],\n",
       "       [305.],\n",
       "       [336.],\n",
       "       [340.],\n",
       "       [318.],\n",
       "       [362.],\n",
       "       [348.],\n",
       "       [363.],\n",
       "       [435.],\n",
       "       [491.],\n",
       "       [505.],\n",
       "       [404.],\n",
       "       [359.],\n",
       "       [310.],\n",
       "       [337.],\n",
       "       [360.],\n",
       "       [342.],\n",
       "       [406.],\n",
       "       [396.],\n",
       "       [420.],\n",
       "       [472.],\n",
       "       [548.],\n",
       "       [559.],\n",
       "       [463.],\n",
       "       [407.],\n",
       "       [362.],\n",
       "       [405.],\n",
       "       [417.],\n",
       "       [391.],\n",
       "       [419.],\n",
       "       [461.],\n",
       "       [472.],\n",
       "       [535.],\n",
       "       [622.],\n",
       "       [606.],\n",
       "       [508.],\n",
       "       [461.],\n",
       "       [390.],\n",
       "       [432.]], dtype=float32)"
      ]
     },
     "execution_count": 8,
     "metadata": {},
     "output_type": "execute_result"
    }
   ],
   "source": [
    "df1"
   ]
  },
  {
   "cell_type": "markdown",
   "metadata": {},
   "source": [
    "### normalize the dataset"
   ]
  },
  {
   "cell_type": "code",
   "execution_count": 9,
   "metadata": {},
   "outputs": [],
   "source": [
    "scaler = MinMaxScaler(feature_range=(0, 1))\n",
    "df1 = scaler.fit_transform(df1)"
   ]
  },
  {
   "cell_type": "code",
   "execution_count": 10,
   "metadata": {},
   "outputs": [],
   "source": [
    "train_size = int(len(df1) * 0.66)\n",
    "test_size = len(df1) - train_size\n",
    "train, test = df1[0:train_size,:], df1[train_size:len(df1),:]"
   ]
  },
  {
   "cell_type": "markdown",
   "metadata": {},
   "source": [
    "### creates a dataset where X is the number of passengers at a given time (t, t-1, t-2...) \n",
    "### and Y is the number of passengers at the next time(t + 1)."
   ]
  },
  {
   "cell_type": "code",
   "execution_count": 11,
   "metadata": {},
   "outputs": [],
   "source": [
    "\n",
    "def to_sequences(df1, seq_size=1):\n",
    "    x = []\n",
    "    y = []\n",
    "\n",
    "    for i in range(len(df1)-seq_size-1):\n",
    "        #print(i)\n",
    "        window = df1[i:(i+seq_size), 0]\n",
    "        x.append(window)\n",
    "        y.append(df1[i+seq_size, 0])\n",
    "        \n",
    "    return np.array(x),np.array(y)"
   ]
  },
  {
   "cell_type": "code",
   "execution_count": 12,
   "metadata": {},
   "outputs": [],
   "source": [
    "seq_size = 10 # Number of time steps to look back \n",
    "trainX, trainY = to_sequences(train, seq_size)\n",
    "testX, testY = to_sequences(test, seq_size)"
   ]
  },
  {
   "cell_type": "code",
   "execution_count": 14,
   "metadata": {},
   "outputs": [
    {
     "data": {
      "text/plain": [
       "(84, 10)"
      ]
     },
     "execution_count": 14,
     "metadata": {},
     "output_type": "execute_result"
    }
   ],
   "source": [
    "trainX.shape\n"
   ]
  },
  {
   "cell_type": "code",
   "execution_count": 15,
   "metadata": {},
   "outputs": [
    {
     "data": {
      "text/plain": [
       "(38, 10)"
      ]
     },
     "execution_count": 15,
     "metadata": {},
     "output_type": "execute_result"
    }
   ],
   "source": [
    "testX.shape"
   ]
  },
  {
   "cell_type": "code",
   "execution_count": 16,
   "metadata": {},
   "outputs": [
    {
     "name": "stdout",
     "output_type": "stream",
     "text": [
      "Model: \"sequential\"\n",
      "_________________________________________________________________\n",
      "Layer (type)                 Output Shape              Param #   \n",
      "=================================================================\n",
      "dense (Dense)                (None, 64)                704       \n",
      "_________________________________________________________________\n",
      "dense_1 (Dense)              (None, 32)                2080      \n",
      "_________________________________________________________________\n",
      "dense_2 (Dense)              (None, 1)                 33        \n",
      "=================================================================\n",
      "Total params: 2,817\n",
      "Trainable params: 2,817\n",
      "Non-trainable params: 0\n",
      "_________________________________________________________________\n",
      "None\n"
     ]
    }
   ],
   "source": [
    "model = Sequential()\n",
    "model.add(Dense(64, input_dim=seq_size, activation='relu')) #12\n",
    "model.add(Dense(32, activation='relu'))  #8\n",
    "model.add(Dense(1))\n",
    "model.compile(loss='mean_squared_error', optimizer='adam', metrics = ['acc'])\n",
    "print(model.summary()) "
   ]
  },
  {
   "cell_type": "code",
   "execution_count": 17,
   "metadata": {},
   "outputs": [
    {
     "name": "stdout",
     "output_type": "stream",
     "text": [
      "Epoch 1/100\n",
      "3/3 - 1s - loss: 0.1414 - acc: 0.0119 - val_loss: 0.5693 - val_acc: 0.0000e+00\n",
      "Epoch 2/100\n",
      "3/3 - 0s - loss: 0.0813 - acc: 0.0119 - val_loss: 0.3184 - val_acc: 0.0000e+00\n",
      "Epoch 3/100\n",
      "3/3 - 0s - loss: 0.0424 - acc: 0.0119 - val_loss: 0.1624 - val_acc: 0.0000e+00\n",
      "Epoch 4/100\n",
      "3/3 - 0s - loss: 0.0193 - acc: 0.0119 - val_loss: 0.0759 - val_acc: 0.0000e+00\n",
      "Epoch 5/100\n",
      "3/3 - 0s - loss: 0.0086 - acc: 0.0119 - val_loss: 0.0375 - val_acc: 0.0263\n",
      "Epoch 6/100\n",
      "3/3 - 0s - loss: 0.0070 - acc: 0.0119 - val_loss: 0.0294 - val_acc: 0.0263\n",
      "Epoch 7/100\n",
      "3/3 - 0s - loss: 0.0085 - acc: 0.0119 - val_loss: 0.0338 - val_acc: 0.0263\n",
      "Epoch 8/100\n",
      "3/3 - 0s - loss: 0.0103 - acc: 0.0119 - val_loss: 0.0371 - val_acc: 0.0263\n",
      "Epoch 9/100\n",
      "3/3 - 0s - loss: 0.0106 - acc: 0.0119 - val_loss: 0.0354 - val_acc: 0.0263\n",
      "Epoch 10/100\n",
      "3/3 - 0s - loss: 0.0095 - acc: 0.0119 - val_loss: 0.0318 - val_acc: 0.0263\n",
      "Epoch 11/100\n",
      "3/3 - 0s - loss: 0.0080 - acc: 0.0119 - val_loss: 0.0288 - val_acc: 0.0263\n",
      "Epoch 12/100\n",
      "3/3 - 0s - loss: 0.0068 - acc: 0.0119 - val_loss: 0.0283 - val_acc: 0.0263\n",
      "Epoch 13/100\n",
      "3/3 - 0s - loss: 0.0059 - acc: 0.0119 - val_loss: 0.0298 - val_acc: 0.0263\n",
      "Epoch 14/100\n",
      "3/3 - 0s - loss: 0.0058 - acc: 0.0119 - val_loss: 0.0322 - val_acc: 0.0263\n",
      "Epoch 15/100\n",
      "3/3 - 0s - loss: 0.0060 - acc: 0.0119 - val_loss: 0.0340 - val_acc: 0.0263\n",
      "Epoch 16/100\n",
      "3/3 - 0s - loss: 0.0061 - acc: 0.0119 - val_loss: 0.0342 - val_acc: 0.0263\n",
      "Epoch 17/100\n",
      "3/3 - 0s - loss: 0.0060 - acc: 0.0119 - val_loss: 0.0328 - val_acc: 0.0263\n",
      "Epoch 18/100\n",
      "3/3 - 0s - loss: 0.0058 - acc: 0.0119 - val_loss: 0.0307 - val_acc: 0.0263\n",
      "Epoch 19/100\n",
      "3/3 - 0s - loss: 0.0056 - acc: 0.0119 - val_loss: 0.0286 - val_acc: 0.0263\n",
      "Epoch 20/100\n",
      "3/3 - 0s - loss: 0.0055 - acc: 0.0119 - val_loss: 0.0267 - val_acc: 0.0263\n",
      "Epoch 21/100\n",
      "3/3 - 0s - loss: 0.0053 - acc: 0.0119 - val_loss: 0.0258 - val_acc: 0.0263\n",
      "Epoch 22/100\n",
      "3/3 - 0s - loss: 0.0053 - acc: 0.0119 - val_loss: 0.0253 - val_acc: 0.0263\n",
      "Epoch 23/100\n",
      "3/3 - 0s - loss: 0.0053 - acc: 0.0119 - val_loss: 0.0249 - val_acc: 0.0263\n",
      "Epoch 24/100\n",
      "3/3 - 0s - loss: 0.0052 - acc: 0.0119 - val_loss: 0.0246 - val_acc: 0.0263\n",
      "Epoch 25/100\n",
      "3/3 - 0s - loss: 0.0051 - acc: 0.0119 - val_loss: 0.0244 - val_acc: 0.0263\n",
      "Epoch 26/100\n",
      "3/3 - 0s - loss: 0.0050 - acc: 0.0119 - val_loss: 0.0244 - val_acc: 0.0263\n",
      "Epoch 27/100\n",
      "3/3 - 0s - loss: 0.0049 - acc: 0.0119 - val_loss: 0.0245 - val_acc: 0.0263\n",
      "Epoch 28/100\n",
      "3/3 - 0s - loss: 0.0049 - acc: 0.0119 - val_loss: 0.0243 - val_acc: 0.0263\n",
      "Epoch 29/100\n",
      "3/3 - 0s - loss: 0.0048 - acc: 0.0119 - val_loss: 0.0242 - val_acc: 0.0263\n",
      "Epoch 30/100\n",
      "3/3 - 0s - loss: 0.0048 - acc: 0.0119 - val_loss: 0.0237 - val_acc: 0.0263\n",
      "Epoch 31/100\n",
      "3/3 - 0s - loss: 0.0047 - acc: 0.0119 - val_loss: 0.0232 - val_acc: 0.0263\n",
      "Epoch 32/100\n",
      "3/3 - 0s - loss: 0.0046 - acc: 0.0119 - val_loss: 0.0229 - val_acc: 0.0263\n",
      "Epoch 33/100\n",
      "3/3 - 0s - loss: 0.0046 - acc: 0.0119 - val_loss: 0.0227 - val_acc: 0.0263\n",
      "Epoch 34/100\n",
      "3/3 - 0s - loss: 0.0045 - acc: 0.0119 - val_loss: 0.0224 - val_acc: 0.0263\n",
      "Epoch 35/100\n",
      "3/3 - 0s - loss: 0.0044 - acc: 0.0119 - val_loss: 0.0219 - val_acc: 0.0263\n",
      "Epoch 36/100\n",
      "3/3 - 0s - loss: 0.0043 - acc: 0.0119 - val_loss: 0.0213 - val_acc: 0.0263\n",
      "Epoch 37/100\n",
      "3/3 - 0s - loss: 0.0042 - acc: 0.0119 - val_loss: 0.0207 - val_acc: 0.0263\n",
      "Epoch 38/100\n",
      "3/3 - 0s - loss: 0.0041 - acc: 0.0119 - val_loss: 0.0198 - val_acc: 0.0263\n",
      "Epoch 39/100\n",
      "3/3 - 0s - loss: 0.0040 - acc: 0.0119 - val_loss: 0.0191 - val_acc: 0.0263\n",
      "Epoch 40/100\n",
      "3/3 - 0s - loss: 0.0039 - acc: 0.0119 - val_loss: 0.0184 - val_acc: 0.0263\n",
      "Epoch 41/100\n",
      "3/3 - 0s - loss: 0.0038 - acc: 0.0119 - val_loss: 0.0182 - val_acc: 0.0263\n",
      "Epoch 42/100\n",
      "3/3 - 0s - loss: 0.0037 - acc: 0.0119 - val_loss: 0.0178 - val_acc: 0.0263\n",
      "Epoch 43/100\n",
      "3/3 - 0s - loss: 0.0037 - acc: 0.0119 - val_loss: 0.0175 - val_acc: 0.0263\n",
      "Epoch 44/100\n",
      "3/3 - 0s - loss: 0.0036 - acc: 0.0119 - val_loss: 0.0172 - val_acc: 0.0263\n",
      "Epoch 45/100\n",
      "3/3 - 0s - loss: 0.0035 - acc: 0.0119 - val_loss: 0.0168 - val_acc: 0.0263\n",
      "Epoch 46/100\n",
      "3/3 - 0s - loss: 0.0034 - acc: 0.0119 - val_loss: 0.0162 - val_acc: 0.0263\n",
      "Epoch 47/100\n",
      "3/3 - 0s - loss: 0.0033 - acc: 0.0119 - val_loss: 0.0159 - val_acc: 0.0263\n",
      "Epoch 48/100\n",
      "3/3 - 0s - loss: 0.0033 - acc: 0.0119 - val_loss: 0.0155 - val_acc: 0.0263\n",
      "Epoch 49/100\n",
      "3/3 - 0s - loss: 0.0032 - acc: 0.0119 - val_loss: 0.0150 - val_acc: 0.0263\n",
      "Epoch 50/100\n",
      "3/3 - 0s - loss: 0.0031 - acc: 0.0119 - val_loss: 0.0144 - val_acc: 0.0263\n",
      "Epoch 51/100\n",
      "3/3 - 0s - loss: 0.0030 - acc: 0.0119 - val_loss: 0.0138 - val_acc: 0.0263\n",
      "Epoch 52/100\n",
      "3/3 - 0s - loss: 0.0029 - acc: 0.0119 - val_loss: 0.0134 - val_acc: 0.0263\n",
      "Epoch 53/100\n",
      "3/3 - 0s - loss: 0.0028 - acc: 0.0119 - val_loss: 0.0130 - val_acc: 0.0263\n",
      "Epoch 54/100\n",
      "3/3 - 0s - loss: 0.0027 - acc: 0.0119 - val_loss: 0.0124 - val_acc: 0.0263\n",
      "Epoch 55/100\n",
      "3/3 - 0s - loss: 0.0026 - acc: 0.0119 - val_loss: 0.0119 - val_acc: 0.0263\n",
      "Epoch 56/100\n",
      "3/3 - 0s - loss: 0.0025 - acc: 0.0119 - val_loss: 0.0116 - val_acc: 0.0263\n",
      "Epoch 57/100\n",
      "3/3 - 0s - loss: 0.0024 - acc: 0.0119 - val_loss: 0.0112 - val_acc: 0.0263\n",
      "Epoch 58/100\n",
      "3/3 - 0s - loss: 0.0024 - acc: 0.0119 - val_loss: 0.0110 - val_acc: 0.0263\n",
      "Epoch 59/100\n",
      "3/3 - 0s - loss: 0.0023 - acc: 0.0119 - val_loss: 0.0105 - val_acc: 0.0263\n",
      "Epoch 60/100\n",
      "3/3 - 0s - loss: 0.0022 - acc: 0.0119 - val_loss: 0.0101 - val_acc: 0.0263\n",
      "Epoch 61/100\n",
      "3/3 - 0s - loss: 0.0021 - acc: 0.0119 - val_loss: 0.0098 - val_acc: 0.0263\n",
      "Epoch 62/100\n",
      "3/3 - 0s - loss: 0.0021 - acc: 0.0119 - val_loss: 0.0096 - val_acc: 0.0263\n",
      "Epoch 63/100\n",
      "3/3 - 0s - loss: 0.0020 - acc: 0.0119 - val_loss: 0.0092 - val_acc: 0.0263\n",
      "Epoch 64/100\n",
      "3/3 - 0s - loss: 0.0020 - acc: 0.0119 - val_loss: 0.0089 - val_acc: 0.0263\n",
      "Epoch 65/100\n",
      "3/3 - 0s - loss: 0.0019 - acc: 0.0119 - val_loss: 0.0086 - val_acc: 0.0263\n",
      "Epoch 66/100\n",
      "3/3 - 0s - loss: 0.0019 - acc: 0.0119 - val_loss: 0.0083 - val_acc: 0.0263\n",
      "Epoch 67/100\n",
      "3/3 - 0s - loss: 0.0018 - acc: 0.0119 - val_loss: 0.0081 - val_acc: 0.0263\n",
      "Epoch 68/100\n",
      "3/3 - 0s - loss: 0.0017 - acc: 0.0119 - val_loss: 0.0078 - val_acc: 0.0263\n",
      "Epoch 69/100\n",
      "3/3 - 0s - loss: 0.0017 - acc: 0.0119 - val_loss: 0.0072 - val_acc: 0.0263\n",
      "Epoch 70/100\n",
      "3/3 - 0s - loss: 0.0015 - acc: 0.0119 - val_loss: 0.0065 - val_acc: 0.0263\n",
      "Epoch 71/100\n",
      "3/3 - 0s - loss: 0.0015 - acc: 0.0119 - val_loss: 0.0064 - val_acc: 0.0263\n",
      "Epoch 72/100\n",
      "3/3 - 0s - loss: 0.0015 - acc: 0.0119 - val_loss: 0.0060 - val_acc: 0.0263\n",
      "Epoch 73/100\n",
      "3/3 - 0s - loss: 0.0013 - acc: 0.0119 - val_loss: 0.0058 - val_acc: 0.0263\n",
      "Epoch 74/100\n",
      "3/3 - 0s - loss: 0.0013 - acc: 0.0119 - val_loss: 0.0057 - val_acc: 0.0263\n",
      "Epoch 75/100\n",
      "3/3 - 0s - loss: 0.0013 - acc: 0.0119 - val_loss: 0.0056 - val_acc: 0.0263\n",
      "Epoch 76/100\n",
      "3/3 - 0s - loss: 0.0012 - acc: 0.0119 - val_loss: 0.0056 - val_acc: 0.0263\n",
      "Epoch 77/100\n",
      "3/3 - 0s - loss: 0.0012 - acc: 0.0119 - val_loss: 0.0052 - val_acc: 0.0263\n",
      "Epoch 78/100\n",
      "3/3 - 0s - loss: 0.0011 - acc: 0.0119 - val_loss: 0.0049 - val_acc: 0.0263\n",
      "Epoch 79/100\n",
      "3/3 - 0s - loss: 0.0011 - acc: 0.0119 - val_loss: 0.0047 - val_acc: 0.0263\n",
      "Epoch 80/100\n",
      "3/3 - 0s - loss: 0.0011 - acc: 0.0119 - val_loss: 0.0049 - val_acc: 0.0263\n",
      "Epoch 81/100\n",
      "3/3 - 0s - loss: 0.0011 - acc: 0.0119 - val_loss: 0.0046 - val_acc: 0.0263\n",
      "Epoch 82/100\n",
      "3/3 - 0s - loss: 0.0010 - acc: 0.0119 - val_loss: 0.0045 - val_acc: 0.0263\n",
      "Epoch 83/100\n",
      "3/3 - 0s - loss: 0.0011 - acc: 0.0119 - val_loss: 0.0044 - val_acc: 0.0263\n",
      "Epoch 84/100\n",
      "3/3 - 0s - loss: 0.0011 - acc: 0.0119 - val_loss: 0.0047 - val_acc: 0.0263\n",
      "Epoch 85/100\n",
      "3/3 - 0s - loss: 9.9642e-04 - acc: 0.0119 - val_loss: 0.0043 - val_acc: 0.0263\n",
      "Epoch 86/100\n",
      "3/3 - 0s - loss: 9.6716e-04 - acc: 0.0119 - val_loss: 0.0043 - val_acc: 0.0263\n",
      "Epoch 87/100\n",
      "3/3 - 0s - loss: 9.6876e-04 - acc: 0.0119 - val_loss: 0.0042 - val_acc: 0.0263\n",
      "Epoch 88/100\n",
      "3/3 - 0s - loss: 9.4002e-04 - acc: 0.0119 - val_loss: 0.0042 - val_acc: 0.0263\n",
      "Epoch 89/100\n",
      "3/3 - 0s - loss: 9.2525e-04 - acc: 0.0119 - val_loss: 0.0039 - val_acc: 0.0263\n",
      "Epoch 90/100\n",
      "3/3 - 0s - loss: 9.2055e-04 - acc: 0.0119 - val_loss: 0.0039 - val_acc: 0.0263\n",
      "Epoch 91/100\n",
      "3/3 - 0s - loss: 8.9546e-04 - acc: 0.0119 - val_loss: 0.0039 - val_acc: 0.0263\n",
      "Epoch 92/100\n",
      "3/3 - 0s - loss: 8.7214e-04 - acc: 0.0119 - val_loss: 0.0037 - val_acc: 0.0263\n",
      "Epoch 93/100\n",
      "3/3 - 0s - loss: 8.3790e-04 - acc: 0.0119 - val_loss: 0.0036 - val_acc: 0.0263\n",
      "Epoch 94/100\n",
      "3/3 - 0s - loss: 8.5544e-04 - acc: 0.0119 - val_loss: 0.0036 - val_acc: 0.0263\n",
      "Epoch 95/100\n",
      "3/3 - 0s - loss: 8.1678e-04 - acc: 0.0119 - val_loss: 0.0036 - val_acc: 0.0263\n",
      "Epoch 96/100\n",
      "3/3 - 0s - loss: 8.2287e-04 - acc: 0.0119 - val_loss: 0.0039 - val_acc: 0.0263\n",
      "Epoch 97/100\n",
      "3/3 - 0s - loss: 8.0187e-04 - acc: 0.0119 - val_loss: 0.0035 - val_acc: 0.0263\n",
      "Epoch 98/100\n",
      "3/3 - 0s - loss: 7.9250e-04 - acc: 0.0119 - val_loss: 0.0035 - val_acc: 0.0263\n",
      "Epoch 99/100\n",
      "3/3 - 0s - loss: 7.6810e-04 - acc: 0.0119 - val_loss: 0.0035 - val_acc: 0.0263\n",
      "Epoch 100/100\n",
      "3/3 - 0s - loss: 7.6276e-04 - acc: 0.0119 - val_loss: 0.0037 - val_acc: 0.0263\n"
     ]
    },
    {
     "data": {
      "text/plain": [
       "<keras.callbacks.History at 0x1fb2ba36ca0>"
      ]
     },
     "execution_count": 17,
     "metadata": {},
     "output_type": "execute_result"
    }
   ],
   "source": [
    "model.fit(trainX, trainY, validation_data=(testX, testY),\n",
    "          verbose=2, epochs=100)"
   ]
  },
  {
   "cell_type": "code",
   "execution_count": 18,
   "metadata": {},
   "outputs": [],
   "source": [
    "trainPredict = model.predict(trainX)\n",
    "testPredict = model.predict(testX)"
   ]
  },
  {
   "cell_type": "code",
   "execution_count": 19,
   "metadata": {},
   "outputs": [],
   "source": [
    "trainPredict = scaler.inverse_transform(trainPredict)\n",
    "trainY_inverse = scaler.inverse_transform([trainY])\n",
    "testPredict = scaler.inverse_transform(testPredict)\n",
    "testY_inverse = scaler.inverse_transform([testY])"
   ]
  },
  {
   "cell_type": "code",
   "execution_count": 22,
   "metadata": {},
   "outputs": [],
   "source": [
    "trainPredictPlot = np.empty_like(df1)\n",
    "trainPredictPlot[:, :] = np.nan\n",
    "trainPredictPlot[seq_size:len(trainPredict)+seq_size, :] = trainPredict"
   ]
  },
  {
   "cell_type": "code",
   "execution_count": 25,
   "metadata": {},
   "outputs": [],
   "source": [
    "testPredictPlot = np.empty_like(df1)\n",
    "testPredictPlot[:, :] = np.nan\n",
    "testPredictPlot[len(trainPredict)+(seq_size*2)+1:len(df1)-1, :] = testPredict\n"
   ]
  },
  {
   "cell_type": "code",
   "execution_count": 26,
   "metadata": {},
   "outputs": [
    {
     "data": {
      "image/png": "[encoded data removed]",
      "text/plain": [
       "<Figure size 432x288 with 1 Axes>"
      ]
     },
     "metadata": {
      "needs_background": "light"
     },
     "output_type": "display_data"
    }
   ],
   "source": [
    "plt.plot(scaler.inverse_transform(df1))\n",
    "plt.plot(trainPredictPlot)\n",
    "plt.plot(testPredictPlot)\n",
    "plt.show()"
   ]
  },
  {
   "cell_type": "code",
   "execution_count": null,
   "metadata": {},
   "outputs": [],
   "source": []
  }
 ],
 "metadata": {
  "interpreter": {
   "hash": "951fb32a6958a248c41bef3ea04b7bcbe3006c72f9e70b50cc99c0fa222922a8"
  },
  "kernelspec": {
   "display_name": "Python 3.9.7 64-bit",
   "language": "python",
   "name": "python3"
  },
  "language_info": {
   "codemirror_mode": {
    "name": "ipython",
    "version": 3
   },
   "file_extension": ".py",
   "mimetype": "text/x-python",
   "name": "python",
   "nbconvert_exporter": "python",
   "pygments_lexer": "ipython3",
   "version": "3.9.7"
  },
  "orig_nbformat": 4
 },
 "nbformat": 4,
 "nbformat_minor": 2
}
